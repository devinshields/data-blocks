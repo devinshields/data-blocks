{
 "cells": [
  {
   "cell_type": "markdown",
   "metadata": {},
   "source": [
    "# code, data, and visuaization - building blocks\n",
    "\n",
    "\n",
    "### intro\n",
    "\n",
    "* notebooks are an awesome tool for fast, interactive research.\n",
    "* but once I've hacked on some data and discovered something useful,\n",
    "* I don't know a good way to freeze that example and publish my results on the web.\n",
    "\n",
    "\n",
    "### inspiration\n",
    "\n",
    "* the python world does have the ipython notebook viewer\n",
    "  * but the lack of a building block standard makes finding\n",
    "  * and re-using code slow and unreliable\n",
    "  \n",
    "  \n",
    "* I'm looking more towards [bl.ocks.org](http://bl.ocks.org/mbostock) and\n",
    "  * the awesome open source community that builds d3.sj\n",
    "\n",
    "\n",
    "### long term, I want solutions for:\n",
    "\n",
    "* how to correctly export notebooks for the web (and make sharing NPI safe)\n",
    "\n",
    "* where to deploy/host a researh building block\n",
    "\n",
    "* setting the right tone and level of formality\n",
    "  * create templates & examples for knowledge build blocks\n",
    "  * include placeholders for stages of the scientific method\n",
    "\n",
    "* help users to be explicit about what their work is testing\n",
    "  * or if their research is not goal oriented, to talk\n",
    "  * about the what and why of their exploration"
   ]
  },
  {
   "cell_type": "markdown",
   "metadata": {},
   "source": [
    "--------------------------------------------------------------------------------"
   ]
  },
  {
   "cell_type": "markdown",
   "metadata": {},
   "source": [
    "## short term, I want to:\n",
    "\n",
    "\n",
    "## transform this notebook\n",
    "\n",
    "\n",
    "* into a web accessable building block of knowledge,\n",
    "* without screwing up the primary repository the notebook lives in.\n",
    "\n",
    "\n",
    "## make a typical notebook\n",
    "\n",
    "and do a typical firt-pass on some data.\n",
    "\n",
    "* do a getting-to-know-you\", type scan over the data:\n",
    "  * look at a sample\n",
    "  * look at available metadata\n",
    "  * basic counts\n",
    "  * basic plots\n",
    "  "
   ]
  },
  {
   "cell_type": "code",
   "execution_count": 1,
   "metadata": {
    "collapsed": true
   },
   "outputs": [],
   "source": [
    "import io\n",
    "\n",
    "import IPython.display\n",
    "import pandas as pd\n",
    "import requests"
   ]
  },
  {
   "cell_type": "code",
   "execution_count": 2,
   "metadata": {
    "collapsed": true
   },
   "outputs": [],
   "source": [
    "%matplotlib inline"
   ]
  },
  {
   "cell_type": "code",
   "execution_count": 3,
   "metadata": {
    "collapsed": true
   },
   "outputs": [],
   "source": [
    "# path config - data url\n",
    "url = r'https://raw.githubusercontent.com/cs109/2014_data/master/countries.csv'"
   ]
  },
  {
   "cell_type": "markdown",
   "metadata": {},
   "source": [
    "get data from the web\n",
    "------------------------\n",
    "\n",
    "* pulling web data into pandas w/o a temp file?\n",
    "  * [demo](http://stackoverflow.com/questions/32400867/pandas-read-csv-from-url/32400969#32400969)"
   ]
  },
  {
   "cell_type": "code",
   "execution_count": 4,
   "metadata": {
    "collapsed": true
   },
   "outputs": [],
   "source": [
    "# get the web data\n",
    "returned_request = requests.get(url).content\n",
    "\n",
    "# parse and read the data into pandas\n",
    "df = pd.read_csv(io.StringIO(returned_request.decode('utf-8')))"
   ]
  },
  {
   "cell_type": "markdown",
   "metadata": {},
   "source": [
    "look at the data\n",
    "---------------\n",
    "\n",
    "* look at metadata\n",
    "* examine a sample of records by hand\n",
    "* make some basic plots"
   ]
  },
  {
   "cell_type": "code",
   "execution_count": 5,
   "metadata": {
    "collapsed": false
   },
   "outputs": [
    {
     "data": {
      "text/plain": [
       "Index([u'Country', u'Region'], dtype='object')"
      ]
     },
     "execution_count": 5,
     "metadata": {},
     "output_type": "execute_result"
    }
   ],
   "source": [
    "# metadata!\n",
    "df.columns"
   ]
  },
  {
   "cell_type": "code",
   "execution_count": 6,
   "metadata": {
    "collapsed": false
   },
   "outputs": [
    {
     "data": {
      "text/html": [
       "<div>\n",
       "<table border=\"1\" class=\"dataframe\">\n",
       "  <thead>\n",
       "    <tr style=\"text-align: right;\">\n",
       "      <th></th>\n",
       "      <th>Country</th>\n",
       "      <th>Region</th>\n",
       "    </tr>\n",
       "  </thead>\n",
       "  <tbody>\n",
       "    <tr>\n",
       "      <th>0</th>\n",
       "      <td>Algeria</td>\n",
       "      <td>AFRICA</td>\n",
       "    </tr>\n",
       "    <tr>\n",
       "      <th>1</th>\n",
       "      <td>Angola</td>\n",
       "      <td>AFRICA</td>\n",
       "    </tr>\n",
       "    <tr>\n",
       "      <th>2</th>\n",
       "      <td>Benin</td>\n",
       "      <td>AFRICA</td>\n",
       "    </tr>\n",
       "    <tr>\n",
       "      <th>3</th>\n",
       "      <td>Botswana</td>\n",
       "      <td>AFRICA</td>\n",
       "    </tr>\n",
       "    <tr>\n",
       "      <th>4</th>\n",
       "      <td>Burkina</td>\n",
       "      <td>AFRICA</td>\n",
       "    </tr>\n",
       "  </tbody>\n",
       "</table>\n",
       "</div>"
      ],
      "text/plain": [
       "    Country  Region\n",
       "0   Algeria  AFRICA\n",
       "1    Angola  AFRICA\n",
       "2     Benin  AFRICA\n",
       "3  Botswana  AFRICA\n",
       "4   Burkina  AFRICA"
      ]
     },
     "execution_count": 6,
     "metadata": {},
     "output_type": "execute_result"
    }
   ],
   "source": [
    "# examine a sample\n",
    "df.head()"
   ]
  },
  {
   "cell_type": "code",
   "execution_count": 7,
   "metadata": {
    "collapsed": false
   },
   "outputs": [
    {
     "data": {
      "text/html": [
       "<div>\n",
       "<table border=\"1\" class=\"dataframe\">\n",
       "  <thead>\n",
       "    <tr style=\"text-align: right;\">\n",
       "      <th></th>\n",
       "      <th>Country</th>\n",
       "      <th>Region</th>\n",
       "    </tr>\n",
       "  </thead>\n",
       "  <tbody>\n",
       "    <tr>\n",
       "      <th>count</th>\n",
       "      <td>194</td>\n",
       "      <td>194</td>\n",
       "    </tr>\n",
       "    <tr>\n",
       "      <th>unique</th>\n",
       "      <td>194</td>\n",
       "      <td>6</td>\n",
       "    </tr>\n",
       "    <tr>\n",
       "      <th>top</th>\n",
       "      <td>Vatican City</td>\n",
       "      <td>AFRICA</td>\n",
       "    </tr>\n",
       "    <tr>\n",
       "      <th>freq</th>\n",
       "      <td>1</td>\n",
       "      <td>54</td>\n",
       "    </tr>\n",
       "  </tbody>\n",
       "</table>\n",
       "</div>"
      ],
      "text/plain": [
       "             Country  Region\n",
       "count            194     194\n",
       "unique           194       6\n",
       "top     Vatican City  AFRICA\n",
       "freq               1      54"
      ]
     },
     "execution_count": 7,
     "metadata": {},
     "output_type": "execute_result"
    }
   ],
   "source": [
    "df.describe(include='all')"
   ]
  },
  {
   "cell_type": "markdown",
   "metadata": {},
   "source": [
    "let's dig a little deeper into the data\n",
    "-------------------------------------\n",
    "\n",
    "* and get some basic plots going"
   ]
  },
  {
   "cell_type": "code",
   "execution_count": 8,
   "metadata": {
    "collapsed": false
   },
   "outputs": [
    {
     "data": {
      "text/plain": [
       "Vatican City     1\n",
       "Iraq             1\n",
       "Macedonia        1\n",
       "Guinea-Bissau    1\n",
       "Venezuela        1\n",
       "Name: Country, dtype: int64"
      ]
     },
     "metadata": {},
     "output_type": "display_data"
    },
    {
     "data": {
      "text/plain": [
       "count    194\n",
       "mean       1\n",
       "std        0\n",
       "min        1\n",
       "25%        1\n",
       "50%        1\n",
       "75%        1\n",
       "max        1\n",
       "Name: Country, dtype: float64"
      ]
     },
     "metadata": {},
     "output_type": "display_data"
    }
   ],
   "source": [
    "IPython.display.display(df.Country.value_counts().head())\n",
    "IPython.display.display(df.Country.value_counts().describe())"
   ]
  },
  {
   "cell_type": "markdown",
   "metadata": {},
   "source": [
    "### these stats imply that Country may be a primary key on this table\n",
    "\n",
    "* region looks more interesting"
   ]
  },
  {
   "cell_type": "code",
   "execution_count": 9,
   "metadata": {
    "collapsed": false
   },
   "outputs": [
    {
     "data": {
      "text/plain": [
       "AFRICA           54\n",
       "EUROPE           47\n",
       "ASIA             44\n",
       "NORTH AMERICA    23\n",
       "OCEANIA          14\n",
       "SOUTH AMERICA    12\n",
       "Name: Region, dtype: int64"
      ]
     },
     "metadata": {},
     "output_type": "display_data"
    },
    {
     "data": {
      "text/plain": [
       "<matplotlib.axes._subplots.AxesSubplot at 0x104c27350>"
      ]
     },
     "metadata": {},
     "output_type": "display_data"
    },
    {
     "data": {
      "image/png": "[encoded data removed]",
      "text/plain": [
       "<matplotlib.figure.Figure at 0x104b45490>"
      ]
     },
     "metadata": {},
     "output_type": "display_data"
    }
   ],
   "source": [
    "IPython.display.display(df.Region.value_counts())\n",
    "IPython.display.display(df.Region.value_counts().plot(kind='bar'))"
   ]
  },
  {
   "cell_type": "markdown",
   "metadata": {},
   "source": [
    "## let's wrap up\n",
    "\n",
    "* that should do it for content you'd see in a typical notebook\n",
    "* we'll see if it renders"
   ]
  }
 ],
 "metadata": {
  "kernelspec": {
   "display_name": "Python 2",
   "language": "python",
   "name": "python2"
  },
  "language_info": {
   "codemirror_mode": {
    "name": "ipython",
    "version": 2
   },
   "file_extension": ".py",
   "mimetype": "text/x-python",
   "name": "python",
   "nbconvert_exporter": "python",
   "pygments_lexer": "ipython2",
   "version": "2.7.10"
  }
 },
 "nbformat": 4,
 "nbformat_minor": 0
}
